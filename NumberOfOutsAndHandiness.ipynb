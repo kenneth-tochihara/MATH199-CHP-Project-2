{
 "cells": [
  {
   "cell_type": "code",
   "execution_count": 3,
   "metadata": {},
   "outputs": [
    {
     "data": {
      "text/plain": [
       "['GameID',\n",
       " 'Date',\n",
       " 'Home',\n",
       " 'Away',\n",
       " 'Home Score Before',\n",
       " 'Home Score After',\n",
       " 'Away Score Before',\n",
       " 'Away Score After',\n",
       " 'Outs Before',\n",
       " 'Outs After',\n",
       " 'Pitcher',\n",
       " 'Is Starter',\n",
       " 'Pitcher Hand',\n",
       " 'Batter',\n",
       " 'Batter Hand',\n",
       " 'Count Before',\n",
       " 'Count After',\n",
       " 'Pitch Type',\n",
       " 'Is Fastball',\n",
       " 'Call',\n",
       " 'Balls After',\n",
       " 'Strikes After',\n",
       " 'Total Pitches Before',\n",
       " 'Total Pitches After',\n",
       " 'Pitch Number']"
      ]
     },
     "execution_count": 3,
     "metadata": {},
     "output_type": "execute_result"
    }
   ],
   "source": [
    "import pandas as pd\n",
    "df = pd.read_csv('data/pitches.csv')\n",
    "list(df)"
   ]
  },
  {
   "cell_type": "code",
   "execution_count": 4,
   "metadata": {},
   "outputs": [
    {
     "data": {
      "text/plain": [
       "0         2019-03-28\n",
       "1         2019-03-28\n",
       "2         2019-03-28\n",
       "3         2019-03-28\n",
       "4         2019-03-28\n",
       "             ...    \n",
       "755913    2019-10-30\n",
       "755914    2019-10-30\n",
       "755915    2019-10-30\n",
       "755916    2019-10-30\n",
       "755917    2019-10-30\n",
       "Name: Date, Length: 755918, dtype: object"
      ]
     },
     "execution_count": 4,
     "metadata": {},
     "output_type": "execute_result"
    }
   ],
   "source": [
    "df['Date']"
   ]
  },
  {
   "cell_type": "code",
   "execution_count": 5,
   "metadata": {},
   "outputs": [
    {
     "ename": "KeyError",
     "evalue": "('Outs Before', 'Is Fastball')",
     "output_type": "error",
     "traceback": [
      "\u001b[1;31m---------------------------------------------------------------------------\u001b[0m",
      "\u001b[1;31mKeyError\u001b[0m                                  Traceback (most recent call last)",
      "\u001b[1;32m~\\Anaconda3\\lib\\site-packages\\pandas\\core\\indexes\\base.py\u001b[0m in \u001b[0;36mget_loc\u001b[1;34m(self, key, method, tolerance)\u001b[0m\n\u001b[0;32m   2896\u001b[0m             \u001b[1;32mtry\u001b[0m\u001b[1;33m:\u001b[0m\u001b[1;33m\u001b[0m\u001b[1;33m\u001b[0m\u001b[0m\n\u001b[1;32m-> 2897\u001b[1;33m                 \u001b[1;32mreturn\u001b[0m \u001b[0mself\u001b[0m\u001b[1;33m.\u001b[0m\u001b[0m_engine\u001b[0m\u001b[1;33m.\u001b[0m\u001b[0mget_loc\u001b[0m\u001b[1;33m(\u001b[0m\u001b[0mkey\u001b[0m\u001b[1;33m)\u001b[0m\u001b[1;33m\u001b[0m\u001b[1;33m\u001b[0m\u001b[0m\n\u001b[0m\u001b[0;32m   2898\u001b[0m             \u001b[1;32mexcept\u001b[0m \u001b[0mKeyError\u001b[0m\u001b[1;33m:\u001b[0m\u001b[1;33m\u001b[0m\u001b[1;33m\u001b[0m\u001b[0m\n",
      "\u001b[1;32mpandas\\_libs\\index.pyx\u001b[0m in \u001b[0;36mpandas._libs.index.IndexEngine.get_loc\u001b[1;34m()\u001b[0m\n",
      "\u001b[1;32mpandas\\_libs\\index.pyx\u001b[0m in \u001b[0;36mpandas._libs.index.IndexEngine.get_loc\u001b[1;34m()\u001b[0m\n",
      "\u001b[1;32mpandas\\_libs\\hashtable_class_helper.pxi\u001b[0m in \u001b[0;36mpandas._libs.hashtable.PyObjectHashTable.get_item\u001b[1;34m()\u001b[0m\n",
      "\u001b[1;32mpandas\\_libs\\hashtable_class_helper.pxi\u001b[0m in \u001b[0;36mpandas._libs.hashtable.PyObjectHashTable.get_item\u001b[1;34m()\u001b[0m\n",
      "\u001b[1;31mKeyError\u001b[0m: ('Outs Before', 'Is Fastball')",
      "\nDuring handling of the above exception, another exception occurred:\n",
      "\u001b[1;31mKeyError\u001b[0m                                  Traceback (most recent call last)",
      "\u001b[1;32m<ipython-input-5-f701aa29d4d5>\u001b[0m in \u001b[0;36m<module>\u001b[1;34m\u001b[0m\n\u001b[1;32m----> 1\u001b[1;33m \u001b[0mdf\u001b[0m\u001b[1;33m[\u001b[0m\u001b[1;34m'Outs Before'\u001b[0m\u001b[1;33m,\u001b[0m \u001b[1;34m'Is Fastball'\u001b[0m\u001b[1;33m]\u001b[0m\u001b[1;33m\u001b[0m\u001b[1;33m\u001b[0m\u001b[0m\n\u001b[0m",
      "\u001b[1;32m~\\Anaconda3\\lib\\site-packages\\pandas\\core\\frame.py\u001b[0m in \u001b[0;36m__getitem__\u001b[1;34m(self, key)\u001b[0m\n\u001b[0;32m   2978\u001b[0m             \u001b[1;32mif\u001b[0m \u001b[0mself\u001b[0m\u001b[1;33m.\u001b[0m\u001b[0mcolumns\u001b[0m\u001b[1;33m.\u001b[0m\u001b[0mnlevels\u001b[0m \u001b[1;33m>\u001b[0m \u001b[1;36m1\u001b[0m\u001b[1;33m:\u001b[0m\u001b[1;33m\u001b[0m\u001b[1;33m\u001b[0m\u001b[0m\n\u001b[0;32m   2979\u001b[0m                 \u001b[1;32mreturn\u001b[0m \u001b[0mself\u001b[0m\u001b[1;33m.\u001b[0m\u001b[0m_getitem_multilevel\u001b[0m\u001b[1;33m(\u001b[0m\u001b[0mkey\u001b[0m\u001b[1;33m)\u001b[0m\u001b[1;33m\u001b[0m\u001b[1;33m\u001b[0m\u001b[0m\n\u001b[1;32m-> 2980\u001b[1;33m             \u001b[0mindexer\u001b[0m \u001b[1;33m=\u001b[0m \u001b[0mself\u001b[0m\u001b[1;33m.\u001b[0m\u001b[0mcolumns\u001b[0m\u001b[1;33m.\u001b[0m\u001b[0mget_loc\u001b[0m\u001b[1;33m(\u001b[0m\u001b[0mkey\u001b[0m\u001b[1;33m)\u001b[0m\u001b[1;33m\u001b[0m\u001b[1;33m\u001b[0m\u001b[0m\n\u001b[0m\u001b[0;32m   2981\u001b[0m             \u001b[1;32mif\u001b[0m \u001b[0mis_integer\u001b[0m\u001b[1;33m(\u001b[0m\u001b[0mindexer\u001b[0m\u001b[1;33m)\u001b[0m\u001b[1;33m:\u001b[0m\u001b[1;33m\u001b[0m\u001b[1;33m\u001b[0m\u001b[0m\n\u001b[0;32m   2982\u001b[0m                 \u001b[0mindexer\u001b[0m \u001b[1;33m=\u001b[0m \u001b[1;33m[\u001b[0m\u001b[0mindexer\u001b[0m\u001b[1;33m]\u001b[0m\u001b[1;33m\u001b[0m\u001b[1;33m\u001b[0m\u001b[0m\n",
      "\u001b[1;32m~\\Anaconda3\\lib\\site-packages\\pandas\\core\\indexes\\base.py\u001b[0m in \u001b[0;36mget_loc\u001b[1;34m(self, key, method, tolerance)\u001b[0m\n\u001b[0;32m   2897\u001b[0m                 \u001b[1;32mreturn\u001b[0m \u001b[0mself\u001b[0m\u001b[1;33m.\u001b[0m\u001b[0m_engine\u001b[0m\u001b[1;33m.\u001b[0m\u001b[0mget_loc\u001b[0m\u001b[1;33m(\u001b[0m\u001b[0mkey\u001b[0m\u001b[1;33m)\u001b[0m\u001b[1;33m\u001b[0m\u001b[1;33m\u001b[0m\u001b[0m\n\u001b[0;32m   2898\u001b[0m             \u001b[1;32mexcept\u001b[0m \u001b[0mKeyError\u001b[0m\u001b[1;33m:\u001b[0m\u001b[1;33m\u001b[0m\u001b[1;33m\u001b[0m\u001b[0m\n\u001b[1;32m-> 2899\u001b[1;33m                 \u001b[1;32mreturn\u001b[0m \u001b[0mself\u001b[0m\u001b[1;33m.\u001b[0m\u001b[0m_engine\u001b[0m\u001b[1;33m.\u001b[0m\u001b[0mget_loc\u001b[0m\u001b[1;33m(\u001b[0m\u001b[0mself\u001b[0m\u001b[1;33m.\u001b[0m\u001b[0m_maybe_cast_indexer\u001b[0m\u001b[1;33m(\u001b[0m\u001b[0mkey\u001b[0m\u001b[1;33m)\u001b[0m\u001b[1;33m)\u001b[0m\u001b[1;33m\u001b[0m\u001b[1;33m\u001b[0m\u001b[0m\n\u001b[0m\u001b[0;32m   2900\u001b[0m         \u001b[0mindexer\u001b[0m \u001b[1;33m=\u001b[0m \u001b[0mself\u001b[0m\u001b[1;33m.\u001b[0m\u001b[0mget_indexer\u001b[0m\u001b[1;33m(\u001b[0m\u001b[1;33m[\u001b[0m\u001b[0mkey\u001b[0m\u001b[1;33m]\u001b[0m\u001b[1;33m,\u001b[0m \u001b[0mmethod\u001b[0m\u001b[1;33m=\u001b[0m\u001b[0mmethod\u001b[0m\u001b[1;33m,\u001b[0m \u001b[0mtolerance\u001b[0m\u001b[1;33m=\u001b[0m\u001b[0mtolerance\u001b[0m\u001b[1;33m)\u001b[0m\u001b[1;33m\u001b[0m\u001b[1;33m\u001b[0m\u001b[0m\n\u001b[0;32m   2901\u001b[0m         \u001b[1;32mif\u001b[0m \u001b[0mindexer\u001b[0m\u001b[1;33m.\u001b[0m\u001b[0mndim\u001b[0m \u001b[1;33m>\u001b[0m \u001b[1;36m1\u001b[0m \u001b[1;32mor\u001b[0m \u001b[0mindexer\u001b[0m\u001b[1;33m.\u001b[0m\u001b[0msize\u001b[0m \u001b[1;33m>\u001b[0m \u001b[1;36m1\u001b[0m\u001b[1;33m:\u001b[0m\u001b[1;33m\u001b[0m\u001b[1;33m\u001b[0m\u001b[0m\n",
      "\u001b[1;32mpandas\\_libs\\index.pyx\u001b[0m in \u001b[0;36mpandas._libs.index.IndexEngine.get_loc\u001b[1;34m()\u001b[0m\n",
      "\u001b[1;32mpandas\\_libs\\index.pyx\u001b[0m in \u001b[0;36mpandas._libs.index.IndexEngine.get_loc\u001b[1;34m()\u001b[0m\n",
      "\u001b[1;32mpandas\\_libs\\hashtable_class_helper.pxi\u001b[0m in \u001b[0;36mpandas._libs.hashtable.PyObjectHashTable.get_item\u001b[1;34m()\u001b[0m\n",
      "\u001b[1;32mpandas\\_libs\\hashtable_class_helper.pxi\u001b[0m in \u001b[0;36mpandas._libs.hashtable.PyObjectHashTable.get_item\u001b[1;34m()\u001b[0m\n",
      "\u001b[1;31mKeyError\u001b[0m: ('Outs Before', 'Is Fastball')"
     ]
    }
   ],
   "source": [
    "df['Outs Before', 'Is Fastball']"
   ]
  },
  {
   "cell_type": "code",
   "execution_count": 6,
   "metadata": {},
   "outputs": [
    {
     "data": {
      "text/plain": [
       "0         0\n",
       "1         0\n",
       "2         0\n",
       "3         1\n",
       "4         1\n",
       "         ..\n",
       "755913    2\n",
       "755914    2\n",
       "755915    2\n",
       "755916    2\n",
       "755917    2\n",
       "Name: Outs Before, Length: 755918, dtype: int64"
      ]
     },
     "execution_count": 6,
     "metadata": {},
     "output_type": "execute_result"
    }
   ],
   "source": [
    "df['Outs Before']"
   ]
  },
  {
   "cell_type": "code",
   "execution_count": 7,
   "metadata": {},
   "outputs": [
    {
     "data": {
      "text/plain": [
       "(0         0\n",
       " 1         0\n",
       " 2         0\n",
       " 3         1\n",
       " 4         1\n",
       "          ..\n",
       " 755913    2\n",
       " 755914    2\n",
       " 755915    2\n",
       " 755916    2\n",
       " 755917    2\n",
       " Name: Outs Before, Length: 755918, dtype: int64, 0          True\n",
       " 1          True\n",
       " 2          True\n",
       " 3         False\n",
       " 4          True\n",
       "           ...  \n",
       " 755913    False\n",
       " 755914     True\n",
       " 755915     True\n",
       " 755916     True\n",
       " 755917    False\n",
       " Name: Is Fastball, Length: 755918, dtype: object)"
      ]
     },
     "execution_count": 7,
     "metadata": {},
     "output_type": "execute_result"
    }
   ],
   "source": [
    "df['Outs Before'], df['Is Fastball']"
   ]
  },
  {
   "cell_type": "code",
   "execution_count": 29,
   "metadata": {},
   "outputs": [],
   "source": [
    "import matplotlib.pyplot as plt"
   ]
  },
  {
   "cell_type": "code",
   "execution_count": 9,
   "metadata": {},
   "outputs": [],
   "source": [
    "isFastball = []\n",
    "for i in range(755917):\n",
    "    if str(df.loc[i, \"Is Fastball\"]) == 'True':\n",
    "        isFastball.append(i)"
   ]
  },
  {
   "cell_type": "code",
   "execution_count": 22,
   "metadata": {},
   "outputs": [],
   "source": [
    "fastballNoOut = []\n",
    "for i in range(755917):\n",
    "    if str(df.loc[i, \"Outs Before\"]) == '0' and str(df.loc[i, \"Is Fastball\"]) == 'True':\n",
    "        fastballNoOut.append(i)"
   ]
  },
  {
   "cell_type": "code",
   "execution_count": 21,
   "metadata": {},
   "outputs": [],
   "source": [
    "fastballOneOut = []\n",
    "for i in range(755917):\n",
    "    if str(df.loc[i, \"Outs Before\"]) == '1' and str(df.loc[i, \"Is Fastball\"]) == 'True':\n",
    "        fastballOneOut.append(i)"
   ]
  },
  {
   "cell_type": "code",
   "execution_count": 20,
   "metadata": {},
   "outputs": [],
   "source": [
    "fastballTwoOut = []\n",
    "for i in range(755917):\n",
    "    if str(df.loc[i, \"Outs Before\"]) == '2' and str(df.loc[i, \"Is Fastball\"]) == 'True':\n",
    "        fastballTwoOut.append(i)"
   ]
  },
  {
   "cell_type": "code",
   "execution_count": 19,
   "metadata": {},
   "outputs": [],
   "source": [
    "offspeedNoOut = []\n",
    "for i in range(755917):\n",
    "    if str(df.loc[i, \"Outs Before\"]) == '0' and str(df.loc[i, \"Is Fastball\"]) == 'False':\n",
    "        offspeedNoOut.append(i)"
   ]
  },
  {
   "cell_type": "code",
   "execution_count": 18,
   "metadata": {},
   "outputs": [],
   "source": [
    "offspeedOneOut = []\n",
    "for i in range(755917):\n",
    "    if str(df.loc[i, \"Outs Before\"]) == '1' and str(df.loc[i, \"Is Fastball\"]) == 'False':\n",
    "        offspeedOneOut.append(i)"
   ]
  },
  {
   "cell_type": "code",
   "execution_count": 17,
   "metadata": {},
   "outputs": [],
   "source": [
    "offspeedTwoOut = []\n",
    "for i in range(755917):\n",
    "    if str(df.loc[i, \"Outs Before\"]) == '2' and str(df.loc[i, \"Is Fastball\"]) == 'False':\n",
    "        offspeedTwoOut.append(i)"
   ]
  },
  {
   "cell_type": "code",
   "execution_count": 23,
   "metadata": {},
   "outputs": [],
   "source": [
    "noOutPercent = len(fastballNoOut) / (len(fastballNoOut) + len(offspeedNoOut))"
   ]
  },
  {
   "cell_type": "code",
   "execution_count": 24,
   "metadata": {},
   "outputs": [],
   "source": [
    "oneOutPercent = len(fastballOneOut) / (len(fastballOneOut) + len(offspeedOneOut))"
   ]
  },
  {
   "cell_type": "code",
   "execution_count": 34,
   "metadata": {},
   "outputs": [],
   "source": [
    "twoOutPercent = len(fastballTwoOut) / (len(fastballTwoOut) + len(offspeedTwoOut))"
   ]
  },
  {
   "cell_type": "code",
   "execution_count": 74,
   "metadata": {},
   "outputs": [],
   "source": [
    "fastballPercents = [noOutPercent * 100, oneOutPercent * 100, twoOutPercent * 100]"
   ]
  },
  {
   "cell_type": "code",
   "execution_count": 27,
   "metadata": {},
   "outputs": [],
   "source": [
    "numOuts = [0, 1, 2]"
   ]
  },
  {
   "cell_type": "code",
   "execution_count": 75,
   "metadata": {},
   "outputs": [
    {
     "data": {
      "image/png": "[encoded data removed]",
      "text/plain": [
       "<Figure size 432x288 with 1 Axes>"
      ]
     },
     "metadata": {
      "needs_background": "light"
     },
     "output_type": "display_data"
    }
   ],
   "source": [
    "import numpy as np\n",
    "\n",
    "index = np.arange(len(numOuts))\n",
    "\n",
    "plt.bar(index, fastballPercents)\n",
    "plt.xticks(index, numOuts)\n",
    "plt.xlabel('Number of Outs')\n",
    "plt.ylabel('Percentage of Fastballs')\n",
    "plt.title('Percentage of Fastballs by Outs')\n",
    "\n",
    "plt.show()"
   ]
  },
  {
   "cell_type": "code",
   "execution_count": 37,
   "metadata": {},
   "outputs": [
    {
     "name": "stdout",
     "output_type": "stream",
     "text": [
      "[0.46310645321723837, 0.440344128717376, 0.4339502723546198]\n"
     ]
    }
   ],
   "source": [
    "print(fastballPercents)"
   ]
  },
  {
   "cell_type": "code",
   "execution_count": 38,
   "metadata": {},
   "outputs": [
    {
     "data": {
      "text/plain": [
       "(0         vs_RHP\n",
       " 1         vs_RHP\n",
       " 2         vs_RHP\n",
       " 3         vs_RHP\n",
       " 4         vs_RHP\n",
       "            ...  \n",
       " 755913    vs_RHP\n",
       " 755914    vs_RHP\n",
       " 755915    vs_RHP\n",
       " 755916    vs_RHP\n",
       " 755917    vs_RHP\n",
       " Name: Pitcher Hand, Length: 755918, dtype: object, 0         vs_LHB\n",
       " 1         vs_LHB\n",
       " 2         vs_LHB\n",
       " 3         vs_RHB\n",
       " 4         vs_RHB\n",
       "            ...  \n",
       " 755913    vs_LHB\n",
       " 755914    vs_LHB\n",
       " 755915    vs_LHB\n",
       " 755916    vs_LHB\n",
       " 755917    vs_LHB\n",
       " Name: Batter Hand, Length: 755918, dtype: object)"
      ]
     },
     "execution_count": 38,
     "metadata": {},
     "output_type": "execute_result"
    }
   ],
   "source": [
    "df['Pitcher Hand'], df['Batter Hand']"
   ]
  },
  {
   "cell_type": "code",
   "execution_count": 48,
   "metadata": {},
   "outputs": [],
   "source": [
    "fastballRightOnRight = []\n",
    "for i in range(755917):\n",
    "    if str(df.loc[i, \"Pitcher Hand\"]) == 'vs_RHP' and str(df.loc[i, \"Batter Hand\"]) == 'vs_RHB' and str(df.loc[i, \"Is Fastball\"]) == 'True':\n",
    "        fastballRightOnRight.append(i)"
   ]
  },
  {
   "cell_type": "code",
   "execution_count": 49,
   "metadata": {},
   "outputs": [],
   "source": [
    "fastballRightOnLeft = []\n",
    "for i in range(755917):\n",
    "    if str(df.loc[i, \"Pitcher Hand\"]) == 'vs_RHP' and str(df.loc[i, \"Batter Hand\"]) == 'vs_LHB' and str(df.loc[i, \"Is Fastball\"]) == 'True':\n",
    "        fastballRightOnLeft.append(i)"
   ]
  },
  {
   "cell_type": "code",
   "execution_count": 50,
   "metadata": {},
   "outputs": [],
   "source": [
    "fastballLeftOnRight = []\n",
    "for i in range(755917):\n",
    "    if str(df.loc[i, \"Pitcher Hand\"]) == 'vs_LHP' and str(df.loc[i, \"Batter Hand\"]) == 'vs_RHB' and str(df.loc[i, \"Is Fastball\"]) == 'True':\n",
    "        fastballLeftOnRight.append(i)"
   ]
  },
  {
   "cell_type": "code",
   "execution_count": 51,
   "metadata": {},
   "outputs": [],
   "source": [
    "fastballLeftOnLeft = []\n",
    "for i in range(755917):\n",
    "    if str(df.loc[i, \"Pitcher Hand\"]) == 'vs_LHP' and str(df.loc[i, \"Batter Hand\"]) == 'vs_LHB' and str(df.loc[i, \"Is Fastball\"]) == 'True':\n",
    "        fastballLeftOnLeft.append(i)"
   ]
  },
  {
   "cell_type": "code",
   "execution_count": 52,
   "metadata": {},
   "outputs": [],
   "source": [
    "offspeedRightOnRight = []\n",
    "for i in range(755917):\n",
    "    if str(df.loc[i, \"Pitcher Hand\"]) == 'vs_RHP' and str(df.loc[i, \"Batter Hand\"]) == 'vs_RHB' and str(df.loc[i, \"Is Fastball\"]) == 'False':\n",
    "        offspeedRightOnRight.append(i)"
   ]
  },
  {
   "cell_type": "code",
   "execution_count": 53,
   "metadata": {},
   "outputs": [],
   "source": [
    "offspeedRightOnLeft = []\n",
    "for i in range(755917):\n",
    "    if str(df.loc[i, \"Pitcher Hand\"]) == 'vs_RHP' and str(df.loc[i, \"Batter Hand\"]) == 'vs_LHB' and str(df.loc[i, \"Is Fastball\"]) == 'False':\n",
    "        offspeedRightOnLeft.append(i)"
   ]
  },
  {
   "cell_type": "code",
   "execution_count": 54,
   "metadata": {},
   "outputs": [],
   "source": [
    "offspeedLeftOnRight = []\n",
    "for i in range(755917):\n",
    "    if str(df.loc[i, \"Pitcher Hand\"]) == 'vs_LHP' and str(df.loc[i, \"Batter Hand\"]) == 'vs_RHB' and str(df.loc[i, \"Is Fastball\"]) == 'False':\n",
    "        offspeedLeftOnRight.append(i)"
   ]
  },
  {
   "cell_type": "code",
   "execution_count": 55,
   "metadata": {},
   "outputs": [],
   "source": [
    "offspeedLeftOnLeft = []\n",
    "for i in range(755917):\n",
    "    if str(df.loc[i, \"Pitcher Hand\"]) == 'vs_LHP' and str(df.loc[i, \"Batter Hand\"]) == 'vs_LHB' and str(df.loc[i, \"Is Fastball\"]) == 'False':\n",
    "        offspeedLeftOnLeft.append(i)"
   ]
  },
  {
   "cell_type": "code",
   "execution_count": 56,
   "metadata": {},
   "outputs": [],
   "source": [
    "rightOnRightPercent = len(fastballRightOnRight) / (len(fastballRightOnRight) + len(offspeedRightOnRight))"
   ]
  },
  {
   "cell_type": "code",
   "execution_count": 57,
   "metadata": {},
   "outputs": [],
   "source": [
    "rightOnLeftPercent = len(fastballRightOnLeft) / (len(fastballRightOnLeft) + len(offspeedRightOnLeft))"
   ]
  },
  {
   "cell_type": "code",
   "execution_count": 58,
   "metadata": {},
   "outputs": [],
   "source": [
    "leftOnRightPercent = len(fastballLeftOnRight) / (len(fastballLeftOnRight) + len(offspeedLeftOnRight))"
   ]
  },
  {
   "cell_type": "code",
   "execution_count": null,
   "metadata": {},
   "outputs": [],
   "source": []
  },
  {
   "cell_type": "code",
   "execution_count": 60,
   "metadata": {},
   "outputs": [],
   "source": [
    "leftOnLeftPercent = len(fastballLeftOnLeft) / (len(fastballLeftOnLeft) + len(offspeedLeftOnLeft))"
   ]
  },
  {
   "cell_type": "code",
   "execution_count": 76,
   "metadata": {},
   "outputs": [],
   "source": [
    "platoonFastballPercents = [rightOnRightPercent * 100, rightOnLeftPercent * 100, leftOnRightPercent * 100, leftOnLeftPercent * 100]"
   ]
  },
  {
   "cell_type": "code",
   "execution_count": 62,
   "metadata": {},
   "outputs": [],
   "source": [
    "matchup = ['RHP vs RHB', 'RHP vs LHB', 'LHP vs RHB', 'LHP vs LHB']"
   ]
  },
  {
   "cell_type": "code",
   "execution_count": 77,
   "metadata": {},
   "outputs": [
    {
     "data": {
      "image/png": "[encoded data removed]",
      "text/plain": [
       "<Figure size 432x288 with 1 Axes>"
      ]
     },
     "metadata": {
      "needs_background": "light"
     },
     "output_type": "display_data"
    }
   ],
   "source": [
    "import numpy as np\n",
    "\n",
    "index2 = np.arange(len(matchup))\n",
    "\n",
    "plt.bar(index2, platoonFastballPercents)\n",
    "plt.xticks(index2, matchup)\n",
    "plt.xlabel('Handiness Matchup')\n",
    "plt.ylabel('Percentage of Fastballs')\n",
    "plt.title('Percentage of Fastballs by Handiness Matchup')\n",
    "\n",
    "plt.show()"
   ]
  },
  {
   "cell_type": "code",
   "execution_count": 64,
   "metadata": {},
   "outputs": [
    {
     "name": "stdout",
     "output_type": "stream",
     "text": [
      "[0.4499441553842382, 0.46445059285399554, 0.4208087757058851, 0.42064017098366496]\n"
     ]
    }
   ],
   "source": [
    "print(platoonFastballPercents)"
   ]
  },
  {
   "cell_type": "code",
   "execution_count": 68,
   "metadata": {},
   "outputs": [],
   "source": [
    "sameHandPercent = (len(fastballRightOnRight) + len(fastballLeftOnLeft)) / (len(fastballRightOnRight) + len(offspeedRightOnRight) + len(fastballLeftOnLeft) + len(offspeedLeftOnLeft))"
   ]
  },
  {
   "cell_type": "code",
   "execution_count": 78,
   "metadata": {
    "scrolled": true
   },
   "outputs": [],
   "source": [
    "oppoHandPercent = (len(fastballRightOnLeft) + len(fastballLeftOnRight)) / (len(fastballRightOnLeft) + len(offspeedRightOnLeft) + len(fastballLeftOnRight) + len(offspeedLeftOnRight))"
   ]
  },
  {
   "cell_type": "code",
   "execution_count": 79,
   "metadata": {},
   "outputs": [],
   "source": [
    "sameOrOppoPercents = [sameHandPercent * 100, oppoHandPercent * 100]"
   ]
  },
  {
   "cell_type": "code",
   "execution_count": 72,
   "metadata": {},
   "outputs": [],
   "source": [
    "platoon = ['Same Hand', 'Opposite Hand']"
   ]
  },
  {
   "cell_type": "code",
   "execution_count": 80,
   "metadata": {},
   "outputs": [
    {
     "data": {
      "image/png": "[encoded data removed]",
      "text/plain": [
       "<Figure size 432x288 with 1 Axes>"
      ]
     },
     "metadata": {
      "needs_background": "light"
     },
     "output_type": "display_data"
    }
   ],
   "source": [
    "import numpy as np\n",
    "\n",
    "index3 = np.arange(len(platoon))\n",
    "\n",
    "plt.bar(index3, sameOrOppoPercents)\n",
    "plt.xticks(index3, platoon)\n",
    "plt.xlabel('Platoon')\n",
    "plt.ylabel('Percentage of Fastballs')\n",
    "plt.title('Percentage of Fastballs by Platoon Advantage')\n",
    "\n",
    "plt.show()"
   ]
  },
  {
   "cell_type": "code",
   "execution_count": 81,
   "metadata": {},
   "outputs": [
    {
     "name": "stdout",
     "output_type": "stream",
     "text": [
      "[44.504501949663236, 44.82216947259236]\n"
     ]
    }
   ],
   "source": [
    "print(sameOrOppoPercents)"
   ]
  },
  {
   "cell_type": "code",
   "execution_count": null,
   "metadata": {},
   "outputs": [],
   "source": []
  }
 ],
 "metadata": {
  "kernelspec": {
   "display_name": "Python 3",
   "language": "python",
   "name": "python3"
  },
  "language_info": {
   "codemirror_mode": {
    "name": "ipython",
    "version": 3
   },
   "file_extension": ".py",
   "mimetype": "text/x-python",
   "name": "python",
   "nbconvert_exporter": "python",
   "pygments_lexer": "ipython3",
   "version": "3.7.4"
  }
 },
 "nbformat": 4,
 "nbformat_minor": 2
}
